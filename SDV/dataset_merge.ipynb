{
 "cells": [
  {
   "cell_type": "code",
   "execution_count": null,
   "id": "008e4dde",
   "metadata": {},
   "outputs": [],
   "source": [
    "# ---------------------------------------\n",
    "# STEP 1 —  Merge the two datasets\n",
    "# ---------------------------------------\n",
    "\n",
    "import pandas as pd\n",
    "\n",
    "# Load the synthetic datasets\n",
    "synthetic_customers = pd.read_csv('synthetic_dim_customer_profile.csv')\n",
    "synthetic_accounts = pd.read_csv('synthetic_fact_credit_history.csv')\n",
    "\n",
    "# Merge the two dataframes on the common column 'customer_id'\n",
    "# Use a 'left' merge to keep all customer profiles, even if they have no accounts.\n",
    "# Alternatively, use an 'inner' merge to only include customers with at least one account.\n",
    "merged_df = pd.merge(\n",
    "    synthetic_customers,\n",
    "    synthetic_accounts,\n",
    "    on='customer_id',\n",
    "    how='left'  # or 'inner'\n",
    ")\n",
    "\n",
    "# Display the first few rows of the merged dataframe\n",
    "print(merged_df.head())\n",
    "\n",
    "# Save the merged dataframe to a new CSV file\n",
    "merged_df.to_csv('merged_credit_data.csv', index=False)\n",
    "\n",
    "print(\"✅ Data merged successfully and saved to 'merged_credit_data.csv'\")\n",
    "print(\"Shape of the merged dataframe:\", merged_df.shape)"
   ]
  }
 ],
 "metadata": {
  "language_info": {
   "name": "python"
  }
 },
 "nbformat": 4,
 "nbformat_minor": 5
}
